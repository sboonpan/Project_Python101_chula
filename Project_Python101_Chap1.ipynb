{
  "nbformat": 4,
  "nbformat_minor": 0,
  "metadata": {
    "colab": {
      "name": "Project_Python101_Chap1.ipynb",
      "provenance": [],
      "authorship_tag": "ABX9TyPTqfLc4sTz0Oh3Trn9X0vX",
      "include_colab_link": true
    },
    "kernelspec": {
      "name": "python3",
      "display_name": "Python 3"
    },
    "language_info": {
      "name": "python"
    }
  },
  "cells": [
    {
      "cell_type": "markdown",
      "metadata": {
        "id": "view-in-github",
        "colab_type": "text"
      },
      "source": [
        "<a href=\"https://colab.research.google.com/github/sboonpan/Project_Python101_chula/blob/main/Project_Python101_Chap1.ipynb\" target=\"_parent\"><img src=\"https://colab.research.google.com/assets/colab-badge.svg\" alt=\"Open In Colab\"/></a>"
      ]
    },
    {
      "cell_type": "markdown",
      "source": [
        "# 1.Data Type and Expression"
      ],
      "metadata": {
        "id": "wJFHPlbgo8g3"
      }
    },
    {
      "cell_type": "markdown",
      "source": [
        "### String number and print"
      ],
      "metadata": {
        "id": "Etm2SLp1pP30"
      }
    },
    {
      "cell_type": "code",
      "source": [
        "a = 'Hello'"
      ],
      "metadata": {
        "id": "Wuh-ygR4pPfe"
      },
      "execution_count": 16,
      "outputs": []
    },
    {
      "cell_type": "code",
      "execution_count": 17,
      "metadata": {
        "colab": {
          "base_uri": "https://localhost:8080/"
        },
        "id": "tZ_1yrMfoybg",
        "outputId": "9ed2c2d6-aab4-4e12-f3ad-3d873ef2e645"
      },
      "outputs": [
        {
          "output_type": "execute_result",
          "data": {
            "text/plain": [
              "str"
            ]
          },
          "metadata": {},
          "execution_count": 17
        }
      ],
      "source": [
        "type(a)"
      ]
    },
    {
      "cell_type": "code",
      "source": [
        "print(a)"
      ],
      "metadata": {
        "colab": {
          "base_uri": "https://localhost:8080/"
        },
        "id": "oeEJabNbo3MR",
        "outputId": "ab4d56fc-b8f6-4cfb-88bb-9ee39c07dfe0"
      },
      "execution_count": 18,
      "outputs": [
        {
          "output_type": "stream",
          "name": "stdout",
          "text": [
            "Hello\n"
          ]
        }
      ]
    },
    {
      "cell_type": "code",
      "source": [
        "b = 1234"
      ],
      "metadata": {
        "id": "YCqr090wo3O_"
      },
      "execution_count": 19,
      "outputs": []
    },
    {
      "cell_type": "code",
      "source": [
        "type(b)"
      ],
      "metadata": {
        "colab": {
          "base_uri": "https://localhost:8080/"
        },
        "id": "h4Ivsk63o3SJ",
        "outputId": "e1b3327d-b41e-4bb6-90a2-e08f66a40baa"
      },
      "execution_count": 20,
      "outputs": [
        {
          "output_type": "execute_result",
          "data": {
            "text/plain": [
              "int"
            ]
          },
          "metadata": {},
          "execution_count": 20
        }
      ]
    },
    {
      "cell_type": "code",
      "source": [
        "c = 0.234\n",
        "type(c)"
      ],
      "metadata": {
        "colab": {
          "base_uri": "https://localhost:8080/"
        },
        "id": "zjc6KOLIo3VU",
        "outputId": "3933a5b8-8baa-434b-ea0c-483e5cb05771"
      },
      "execution_count": 21,
      "outputs": [
        {
          "output_type": "execute_result",
          "data": {
            "text/plain": [
              "float"
            ]
          },
          "metadata": {},
          "execution_count": 21
        }
      ]
    },
    {
      "cell_type": "code",
      "source": [
        "print(\"Hello\", 'python')"
      ],
      "metadata": {
        "colab": {
          "base_uri": "https://localhost:8080/"
        },
        "id": "9afo2vlOo3bB",
        "outputId": "4396ae4d-c680-46c1-b384-0f3bbfb0f4d8"
      },
      "execution_count": 22,
      "outputs": [
        {
          "output_type": "stream",
          "name": "stdout",
          "text": [
            "Hello python\n"
          ]
        }
      ]
    },
    {
      "cell_type": "code",
      "source": [
        "d = 'Hello'\n",
        "e = 'My name is'\n",
        "f = d + e \n",
        "print(f)"
      ],
      "metadata": {
        "colab": {
          "base_uri": "https://localhost:8080/"
        },
        "id": "e3-eH7xfo3eF",
        "outputId": "7374c0e8-ab61-4e56-cfeb-5c39f553d1a2"
      },
      "execution_count": 23,
      "outputs": [
        {
          "output_type": "stream",
          "name": "stdout",
          "text": [
            "HelloMy name is\n"
          ]
        }
      ]
    },
    {
      "cell_type": "code",
      "source": [
        "d = 'Hello '\n",
        "e = 'My name is'\n",
        "f = d + e \n",
        "print(f)"
      ],
      "metadata": {
        "colab": {
          "base_uri": "https://localhost:8080/"
        },
        "id": "v7dVbUiBo3he",
        "outputId": "b2040b08-fcd5-4bc8-ac63-a22fa006008f"
      },
      "execution_count": 24,
      "outputs": [
        {
          "output_type": "stream",
          "name": "stdout",
          "text": [
            "Hello My name is\n"
          ]
        }
      ]
    },
    {
      "cell_type": "code",
      "source": [
        "print('Hello', '  ', 'My name is')"
      ],
      "metadata": {
        "colab": {
          "base_uri": "https://localhost:8080/"
        },
        "id": "DJstFzqPq6Yd",
        "outputId": "4db2cc07-9ff2-452f-819b-a51214d271e0"
      },
      "execution_count": 25,
      "outputs": [
        {
          "output_type": "stream",
          "name": "stdout",
          "text": [
            "Hello    My name is\n"
          ]
        }
      ]
    },
    {
      "cell_type": "code",
      "source": [
        "print('Hello','My name is')"
      ],
      "metadata": {
        "colab": {
          "base_uri": "https://localhost:8080/"
        },
        "id": "YipQqT4Sq6VE",
        "outputId": "609cc091-ee0b-4f1c-e8af-ef3cd76c6bca"
      },
      "execution_count": 26,
      "outputs": [
        {
          "output_type": "stream",
          "name": "stdout",
          "text": [
            "Hello My name is\n"
          ]
        }
      ]
    },
    {
      "cell_type": "code",
      "source": [
        "# แบบฝึกหัด 1.2\n",
        "# ข้อ 1 \n",
        "# สลับคำสั่งในโปรแกรมข้างล่างนี้เพื่อให้แสดงรูปที่น่าสนใจ\n",
        "\n",
        "print('(\")_(\")   (\"\")_(\"\")')\n",
        "\n",
        "\n",
        "\n"
      ],
      "metadata": {
        "colab": {
          "base_uri": "https://localhost:8080/"
        },
        "id": "HCUw_Vp-q6Sl",
        "outputId": "23d27d3d-7837-40ca-889d-3d459b863903"
      },
      "execution_count": 27,
      "outputs": [
        {
          "output_type": "stream",
          "name": "stdout",
          "text": [
            "(\")_(\")   (\"\")_(\"\")\n"
          ]
        }
      ]
    },
    {
      "cell_type": "code",
      "source": [
        "# ข้อ 2 \n",
        "# ใช้คำสั่ง p"
      ],
      "metadata": {
        "id": "YpSUO_pfq6P8"
      },
      "execution_count": 26,
      "outputs": []
    }
  ]
}