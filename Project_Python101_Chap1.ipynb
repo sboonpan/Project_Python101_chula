{
  "nbformat": 4,
  "nbformat_minor": 0,
  "metadata": {
    "colab": {
      "name": "Project_Python101_Chap1.ipynb",
      "provenance": [],
      "collapsed_sections": [],
      "authorship_tag": "ABX9TyNMHP5OuRyZGuOpx6H+ojuT",
      "include_colab_link": true
    },
    "kernelspec": {
      "name": "python3",
      "display_name": "Python 3"
    },
    "language_info": {
      "name": "python"
    }
  },
  "cells": [
    {
      "cell_type": "markdown",
      "metadata": {
        "id": "view-in-github",
        "colab_type": "text"
      },
      "source": [
        "<a href=\"https://colab.research.google.com/github/sboonpan/Project_Python101_chula/blob/main/Project_Python101_Chap1.ipynb\" target=\"_parent\"><img src=\"https://colab.research.google.com/assets/colab-badge.svg\" alt=\"Open In Colab\"/></a>"
      ]
    },
    {
      "cell_type": "markdown",
      "source": [
        "# **0. Getting started**"
      ],
      "metadata": {
        "id": "LhMjStXRlU0p"
      }
    },
    {
      "cell_type": "markdown",
      "source": [
        "# **1.Data Type and Expression**"
      ],
      "metadata": {
        "id": "wJFHPlbgo8g3"
      }
    },
    {
      "cell_type": "code",
      "source": [
        ""
      ],
      "metadata": {
        "id": "hxDa2n-slyTO"
      },
      "execution_count": 21,
      "outputs": []
    },
    {
      "cell_type": "markdown",
      "source": [
        "## **1.1 Program Structure**"
      ],
      "metadata": {
        "id": "-fkqvUjLl1XV"
      }
    },
    {
      "cell_type": "markdown",
      "source": [
        "## **1.2. String number and print()**"
      ],
      "metadata": {
        "id": "Etm2SLp1pP30"
      }
    },
    {
      "cell_type": "code",
      "source": [
        "a = 'Hello'"
      ],
      "metadata": {
        "id": "Wuh-ygR4pPfe"
      },
      "execution_count": 22,
      "outputs": []
    },
    {
      "cell_type": "code",
      "execution_count": 23,
      "metadata": {
        "colab": {
          "base_uri": "https://localhost:8080/"
        },
        "id": "tZ_1yrMfoybg",
        "outputId": "c6144c88-2c8d-4ba9-c0d8-7d48c267f6d1"
      },
      "outputs": [
        {
          "output_type": "execute_result",
          "data": {
            "text/plain": [
              "str"
            ]
          },
          "metadata": {},
          "execution_count": 23
        }
      ],
      "source": [
        "type(a)"
      ]
    },
    {
      "cell_type": "code",
      "source": [
        "print(a)"
      ],
      "metadata": {
        "colab": {
          "base_uri": "https://localhost:8080/"
        },
        "id": "oeEJabNbo3MR",
        "outputId": "318a4ea0-3d7e-40a7-f6b2-4bf73336805a"
      },
      "execution_count": 24,
      "outputs": [
        {
          "output_type": "stream",
          "name": "stdout",
          "text": [
            "Hello\n"
          ]
        }
      ]
    },
    {
      "cell_type": "code",
      "source": [
        "b = 1234"
      ],
      "metadata": {
        "id": "YCqr090wo3O_"
      },
      "execution_count": 25,
      "outputs": []
    },
    {
      "cell_type": "code",
      "source": [
        "type(b)"
      ],
      "metadata": {
        "colab": {
          "base_uri": "https://localhost:8080/"
        },
        "id": "h4Ivsk63o3SJ",
        "outputId": "7ddd942a-2d11-4e15-f2d2-2640065121c3"
      },
      "execution_count": 26,
      "outputs": [
        {
          "output_type": "execute_result",
          "data": {
            "text/plain": [
              "int"
            ]
          },
          "metadata": {},
          "execution_count": 26
        }
      ]
    },
    {
      "cell_type": "code",
      "source": [
        "c = 0.234\n",
        "type(c)"
      ],
      "metadata": {
        "colab": {
          "base_uri": "https://localhost:8080/"
        },
        "id": "zjc6KOLIo3VU",
        "outputId": "b94fdb55-77bd-48b8-c4e5-decd20eeb653"
      },
      "execution_count": 27,
      "outputs": [
        {
          "output_type": "execute_result",
          "data": {
            "text/plain": [
              "float"
            ]
          },
          "metadata": {},
          "execution_count": 27
        }
      ]
    },
    {
      "cell_type": "code",
      "source": [
        "print(\"Hello\", 'python')"
      ],
      "metadata": {
        "colab": {
          "base_uri": "https://localhost:8080/"
        },
        "id": "9afo2vlOo3bB",
        "outputId": "2bde40da-8bf7-4ae7-c921-6fbc769e7ac8"
      },
      "execution_count": 28,
      "outputs": [
        {
          "output_type": "stream",
          "name": "stdout",
          "text": [
            "Hello python\n"
          ]
        }
      ]
    },
    {
      "cell_type": "code",
      "source": [
        "d = 'Hello'\n",
        "e = 'My name is'\n",
        "f = d + e \n",
        "print(f)"
      ],
      "metadata": {
        "colab": {
          "base_uri": "https://localhost:8080/"
        },
        "id": "e3-eH7xfo3eF",
        "outputId": "c00d77bb-a5e7-411c-c0be-9db0eded069b"
      },
      "execution_count": 29,
      "outputs": [
        {
          "output_type": "stream",
          "name": "stdout",
          "text": [
            "HelloMy name is\n"
          ]
        }
      ]
    },
    {
      "cell_type": "code",
      "source": [
        "d = 'Hello '\n",
        "e = 'My name is'\n",
        "f = d + e \n",
        "print(f)"
      ],
      "metadata": {
        "colab": {
          "base_uri": "https://localhost:8080/"
        },
        "id": "v7dVbUiBo3he",
        "outputId": "dd3dab6e-cd53-444d-ae07-97aa872e17e8"
      },
      "execution_count": 30,
      "outputs": [
        {
          "output_type": "stream",
          "name": "stdout",
          "text": [
            "Hello My name is\n"
          ]
        }
      ]
    },
    {
      "cell_type": "code",
      "source": [
        "print('Hello', '  ', 'My name is')"
      ],
      "metadata": {
        "colab": {
          "base_uri": "https://localhost:8080/"
        },
        "id": "DJstFzqPq6Yd",
        "outputId": "8c8a4ca0-54fa-4e2b-fb18-9a8e68c0190d"
      },
      "execution_count": 31,
      "outputs": [
        {
          "output_type": "stream",
          "name": "stdout",
          "text": [
            "Hello    My name is\n"
          ]
        }
      ]
    },
    {
      "cell_type": "code",
      "source": [
        "print('Hello','My name is')"
      ],
      "metadata": {
        "colab": {
          "base_uri": "https://localhost:8080/"
        },
        "id": "YipQqT4Sq6VE",
        "outputId": "ee80cd89-07a5-46af-aa9a-1e9ceba5f910"
      },
      "execution_count": 32,
      "outputs": [
        {
          "output_type": "stream",
          "name": "stdout",
          "text": [
            "Hello My name is\n"
          ]
        }
      ]
    },
    {
      "cell_type": "code",
      "source": [
        "# แบบฝึกหัด 1.2\n",
        "# ข้อ 1 \n",
        "# สลับคำสั่งในโปรแกรมข้างล่างนี้เพื่อให้แสดงรูปที่น่าสนใจ\n",
        "\n",
        "print('(\")_(\")   (\"\")_(\"\")')\n",
        "\n",
        "\n",
        "\n"
      ],
      "metadata": {
        "colab": {
          "base_uri": "https://localhost:8080/"
        },
        "id": "HCUw_Vp-q6Sl",
        "outputId": "4335494a-4ef0-4d8f-ed4c-4cd08b5cb12e"
      },
      "execution_count": 33,
      "outputs": [
        {
          "output_type": "stream",
          "name": "stdout",
          "text": [
            "(\")_(\")   (\"\")_(\"\")\n"
          ]
        }
      ]
    },
    {
      "cell_type": "code",
      "source": [
        "# ข้อ 2 \n",
        "# ใช้คำสั่ง p"
      ],
      "metadata": {
        "id": "YpSUO_pfq6P8"
      },
      "execution_count": 34,
      "outputs": []
    },
    {
      "cell_type": "markdown",
      "source": [
        "## **1.3 Variables**"
      ],
      "metadata": {
        "id": "YldYnxH1mHll"
      }
    },
    {
      "cell_type": "code",
      "source": [
        ""
      ],
      "metadata": {
        "id": "N9MBUAY9oHyd"
      },
      "execution_count": 34,
      "outputs": []
    },
    {
      "cell_type": "markdown",
      "source": [
        "ตัวแปรเป็นที่เก็บข้อมูล\n",
        "- ต้องมีชื่อกำกับ\n",
        "- เปลี่ยนค่าที่เก็บได้\n",
        "\n",
        "\n",
        "> ตัวอย่าง\n",
        "\n",
        "> name = 'Python' หมายถึง นำค่า 'python' เก็บในตัวแปรชื่อ name ตอนนี้ name ชนิดข้อมูล คือ String \n",
        "\n",
        "\n",
        "> lang = name หมายถึง นำข้อมูล name เก็บในตัวแปรชื่อ lang ทำให้ lang กับ name เก็บค่าเหมือนกัน\n",
        "\n",
        "กฎในการตั้งชื่อตัวแปร\n",
        "- ประกอบด้วยตัวอักษร ตัวเลข หรือ เครื่องหมายขีดเส้นใต้\n",
        "- ตัวอังกฤษใหญ่ก้บตัวเล็กความหมายไม่เหมือนกัน\n",
        "- ห้ามขึ้นต้นชื่อด้วยตัวเลข\n",
        "- ไม่ซ้ำกับคำสงวนของภาษา\n",
        "\n",
        "\n",
        "\n",
        "\n"
      ],
      "metadata": {
        "id": "cptSg5Cymca1"
      }
    },
    {
      "cell_type": "markdown",
      "source": [
        "## **1.4 Basic Data Type**"
      ],
      "metadata": {
        "id": "dgqtXxcWpxWl"
      }
    },
    {
      "cell_type": "markdown",
      "source": [
        "str ข้อความ\n",
        "\n",
        "int จำนนวนเต็ม\n",
        "\n",
        "float จำนวนจริง(จุดทศนิยม)\n",
        "\n",
        "ิbool  ค่าจริงกับค่าเท็จเท่านั้น(True กับ False)\n",
        "\n",
        "list ชุดข้อมูล เก็บเรียงลำดับ \n",
        "\n"
      ],
      "metadata": {
        "id": "oH4NUH7Np94t"
      }
    },
    {
      "cell_type": "code",
      "source": [
        "first_name = 'Ranee'\n",
        "last_name  = 'Campen'\n",
        "aka        = 'Bella'\n",
        "age        = 29\n",
        "height     = 1.65\n",
        "is_single  = True\n",
        "birth_date = [24, 12, 1989]\n",
        "\n"
      ],
      "metadata": {
        "id": "eJOnL63LmP45"
      },
      "execution_count": 20,
      "outputs": []
    },
    {
      "cell_type": "code",
      "source": [
        "print('name:', first_name, last_name)"
      ],
      "metadata": {
        "colab": {
          "base_uri": "https://localhost:8080/"
        },
        "id": "jPmSSibWmP10",
        "outputId": "7c32e3bf-964b-4a07-95cb-88154572e6a6"
      },
      "execution_count": 21,
      "outputs": [
        {
          "output_type": "stream",
          "name": "stdout",
          "text": [
            "name: Ranee Campen\n"
          ]
        }
      ]
    },
    {
      "cell_type": "code",
      "source": [
        ""
      ],
      "metadata": {
        "id": "Bq-jgyJ5mPzG"
      },
      "execution_count": 34,
      "outputs": []
    },
    {
      "cell_type": "code",
      "source": [
        ""
      ],
      "metadata": {
        "id": "NVen-hCTmPwV"
      },
      "execution_count": 34,
      "outputs": []
    },
    {
      "cell_type": "code",
      "source": [
        ""
      ],
      "metadata": {
        "id": "_ayPq1LXmPtX"
      },
      "execution_count": 34,
      "outputs": []
    },
    {
      "cell_type": "code",
      "source": [
        ""
      ],
      "metadata": {
        "id": "fjkizpRhmPps"
      },
      "execution_count": 34,
      "outputs": []
    },
    {
      "cell_type": "markdown",
      "source": [
        "# **2. Basic String & List**"
      ],
      "metadata": {
        "id": "D_7u7HLzfrpC"
      }
    },
    {
      "cell_type": "markdown",
      "source": [
        "**2.1 Index and Slice**"
      ],
      "metadata": {
        "id": "cvU30DaxgLu1"
      }
    },
    {
      "cell_type": "code",
      "source": [
        "s = 'Hello' ; t = 'Python'\n",
        "x = [1, 3, 5, 7] ; y = [5, 6, 7, 8]\n",
        "r = s + t\n",
        "z = x + y\n",
        "\n"
      ],
      "metadata": {
        "id": "wUWXkJMrf4fK"
      },
      "execution_count": 35,
      "outputs": []
    },
    {
      "cell_type": "code",
      "source": [
        "# length\n",
        "print(len(s), len(r), len(x), len(z))"
      ],
      "metadata": {
        "id": "DTz2_lzhf5Ou",
        "outputId": "1d4a74ec-b582-4976-cd80-976fedec2bee",
        "colab": {
          "base_uri": "https://localhost:8080/"
        }
      },
      "execution_count": 36,
      "outputs": [
        {
          "output_type": "stream",
          "name": "stdout",
          "text": [
            "5 11 4 8\n"
          ]
        }
      ]
    },
    {
      "cell_type": "code",
      "source": [
        "# index\n",
        "print"
      ],
      "metadata": {
        "id": "zhJ31v1Tf5GB",
        "colab": {
          "base_uri": "https://localhost:8080/"
        },
        "outputId": "52de290e-e2d6-4288-a5ae-a98d46b120ed"
      },
      "execution_count": 37,
      "outputs": [
        {
          "output_type": "execute_result",
          "data": {
            "text/plain": [
              "<function print>"
            ]
          },
          "metadata": {},
          "execution_count": 37
        }
      ]
    },
    {
      "cell_type": "code",
      "source": [
        ""
      ],
      "metadata": {
        "id": "_u1UAgXXf5Bw"
      },
      "execution_count": 37,
      "outputs": []
    },
    {
      "cell_type": "code",
      "source": [
        ""
      ],
      "metadata": {
        "id": "aUuzFTh5f4-G"
      },
      "execution_count": 37,
      "outputs": []
    },
    {
      "cell_type": "code",
      "source": [
        ""
      ],
      "metadata": {
        "id": "cRTRmIUEf46_"
      },
      "execution_count": 37,
      "outputs": []
    }
  ]
}