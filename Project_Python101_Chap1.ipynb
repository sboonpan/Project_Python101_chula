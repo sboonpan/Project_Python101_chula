{
  "nbformat": 4,
  "nbformat_minor": 0,
  "metadata": {
    "colab": {
      "name": "Project_Python101_Chap1.ipynb",
      "provenance": [],
      "collapsed_sections": [],
      "authorship_tag": "ABX9TyMeqOo5eJPQWRyT0SoT2g8a",
      "include_colab_link": true
    },
    "kernelspec": {
      "name": "python3",
      "display_name": "Python 3"
    },
    "language_info": {
      "name": "python"
    }
  },
  "cells": [
    {
      "cell_type": "markdown",
      "metadata": {
        "id": "view-in-github",
        "colab_type": "text"
      },
      "source": [
        "<a href=\"https://colab.research.google.com/github/sboonpan/Project_Python101_chula/blob/main/Project_Python101_Chap1.ipynb\" target=\"_parent\"><img src=\"https://colab.research.google.com/assets/colab-badge.svg\" alt=\"Open In Colab\"/></a>"
      ]
    },
    {
      "cell_type": "markdown",
      "source": [
        "# **0. Getting started**"
      ],
      "metadata": {
        "id": "LhMjStXRlU0p"
      }
    },
    {
      "cell_type": "markdown",
      "source": [
        "# **1.Data Type and Expression**"
      ],
      "metadata": {
        "id": "wJFHPlbgo8g3"
      }
    },
    {
      "cell_type": "code",
      "source": [
        ""
      ],
      "metadata": {
        "id": "hxDa2n-slyTO"
      },
      "execution_count": null,
      "outputs": []
    },
    {
      "cell_type": "markdown",
      "source": [
        "## **1.1 Program Structure**"
      ],
      "metadata": {
        "id": "-fkqvUjLl1XV"
      }
    },
    {
      "cell_type": "markdown",
      "source": [
        "## **1.2. String number and print()**"
      ],
      "metadata": {
        "id": "Etm2SLp1pP30"
      }
    },
    {
      "cell_type": "code",
      "source": [
        "a = 'Hello'"
      ],
      "metadata": {
        "id": "Wuh-ygR4pPfe"
      },
      "execution_count": 1,
      "outputs": []
    },
    {
      "cell_type": "code",
      "execution_count": 2,
      "metadata": {
        "colab": {
          "base_uri": "https://localhost:8080/"
        },
        "id": "tZ_1yrMfoybg",
        "outputId": "281c9065-599e-4ce9-8331-315cea8226bb"
      },
      "outputs": [
        {
          "output_type": "execute_result",
          "data": {
            "text/plain": [
              "str"
            ]
          },
          "metadata": {},
          "execution_count": 2
        }
      ],
      "source": [
        "type(a)"
      ]
    },
    {
      "cell_type": "code",
      "source": [
        "print(a)"
      ],
      "metadata": {
        "colab": {
          "base_uri": "https://localhost:8080/"
        },
        "id": "oeEJabNbo3MR",
        "outputId": "0db7d59a-ddc3-4e59-e88c-9d2106a09b56"
      },
      "execution_count": 3,
      "outputs": [
        {
          "output_type": "stream",
          "name": "stdout",
          "text": [
            "Hello\n"
          ]
        }
      ]
    },
    {
      "cell_type": "code",
      "source": [
        "b = 1234"
      ],
      "metadata": {
        "id": "YCqr090wo3O_"
      },
      "execution_count": 4,
      "outputs": []
    },
    {
      "cell_type": "code",
      "source": [
        "type(b)"
      ],
      "metadata": {
        "colab": {
          "base_uri": "https://localhost:8080/"
        },
        "id": "h4Ivsk63o3SJ",
        "outputId": "13ad0bda-e2dc-48b4-ac90-ef543550cfce"
      },
      "execution_count": 5,
      "outputs": [
        {
          "output_type": "execute_result",
          "data": {
            "text/plain": [
              "int"
            ]
          },
          "metadata": {},
          "execution_count": 5
        }
      ]
    },
    {
      "cell_type": "code",
      "source": [
        "c = 0.234\n",
        "type(c)"
      ],
      "metadata": {
        "colab": {
          "base_uri": "https://localhost:8080/"
        },
        "id": "zjc6KOLIo3VU",
        "outputId": "cafc2c0d-0351-42a3-ce2f-65d9e3eac687"
      },
      "execution_count": 6,
      "outputs": [
        {
          "output_type": "execute_result",
          "data": {
            "text/plain": [
              "float"
            ]
          },
          "metadata": {},
          "execution_count": 6
        }
      ]
    },
    {
      "cell_type": "code",
      "source": [
        "print(\"Hello\", 'python')"
      ],
      "metadata": {
        "colab": {
          "base_uri": "https://localhost:8080/"
        },
        "id": "9afo2vlOo3bB",
        "outputId": "8c69fd53-4aa2-444b-8b49-befd2383db89"
      },
      "execution_count": 7,
      "outputs": [
        {
          "output_type": "stream",
          "name": "stdout",
          "text": [
            "Hello python\n"
          ]
        }
      ]
    },
    {
      "cell_type": "code",
      "source": [
        "d = 'Hello'\n",
        "e = 'My name is'\n",
        "f = d + e \n",
        "print(f)"
      ],
      "metadata": {
        "colab": {
          "base_uri": "https://localhost:8080/"
        },
        "id": "e3-eH7xfo3eF",
        "outputId": "480ec968-788a-4787-e23e-3a8ba7b1660d"
      },
      "execution_count": 8,
      "outputs": [
        {
          "output_type": "stream",
          "name": "stdout",
          "text": [
            "HelloMy name is\n"
          ]
        }
      ]
    },
    {
      "cell_type": "code",
      "source": [
        "d = 'Hello '\n",
        "e = 'My name is'\n",
        "f = d + e \n",
        "print(f)"
      ],
      "metadata": {
        "colab": {
          "base_uri": "https://localhost:8080/"
        },
        "id": "v7dVbUiBo3he",
        "outputId": "6da3268f-8a6d-4366-81a5-6fdc444dfc99"
      },
      "execution_count": 9,
      "outputs": [
        {
          "output_type": "stream",
          "name": "stdout",
          "text": [
            "Hello My name is\n"
          ]
        }
      ]
    },
    {
      "cell_type": "code",
      "source": [
        "print('Hello', '  ', 'My name is')"
      ],
      "metadata": {
        "colab": {
          "base_uri": "https://localhost:8080/"
        },
        "id": "DJstFzqPq6Yd",
        "outputId": "3c871aa9-62f5-4d85-b484-86e8f5fcf9c6"
      },
      "execution_count": 10,
      "outputs": [
        {
          "output_type": "stream",
          "name": "stdout",
          "text": [
            "Hello    My name is\n"
          ]
        }
      ]
    },
    {
      "cell_type": "code",
      "source": [
        "print('Hello','My name is')"
      ],
      "metadata": {
        "colab": {
          "base_uri": "https://localhost:8080/"
        },
        "id": "YipQqT4Sq6VE",
        "outputId": "7ec08616-6f70-4cce-8153-5b8457a70356"
      },
      "execution_count": 11,
      "outputs": [
        {
          "output_type": "stream",
          "name": "stdout",
          "text": [
            "Hello My name is\n"
          ]
        }
      ]
    },
    {
      "cell_type": "code",
      "source": [
        "# แบบฝึกหัด 1.2\n",
        "# ข้อ 1 \n",
        "# สลับคำสั่งในโปรแกรมข้างล่างนี้เพื่อให้แสดงรูปที่น่าสนใจ\n",
        "\n",
        "print('(\")_(\")   (\"\")_(\"\")')\n",
        "\n",
        "\n",
        "\n"
      ],
      "metadata": {
        "colab": {
          "base_uri": "https://localhost:8080/"
        },
        "id": "HCUw_Vp-q6Sl",
        "outputId": "1a7434bc-9da2-4b3f-9081-15f6c0e9ac95"
      },
      "execution_count": 12,
      "outputs": [
        {
          "output_type": "stream",
          "name": "stdout",
          "text": [
            "(\")_(\")   (\"\")_(\"\")\n"
          ]
        }
      ]
    },
    {
      "cell_type": "code",
      "source": [
        "# ข้อ 2 \n",
        "# ใช้คำสั่ง p"
      ],
      "metadata": {
        "id": "YpSUO_pfq6P8"
      },
      "execution_count": 13,
      "outputs": []
    },
    {
      "cell_type": "markdown",
      "source": [
        "## **1.3 Variables**"
      ],
      "metadata": {
        "id": "YldYnxH1mHll"
      }
    },
    {
      "cell_type": "code",
      "source": [
        ""
      ],
      "metadata": {
        "id": "N9MBUAY9oHyd"
      },
      "execution_count": 13,
      "outputs": []
    },
    {
      "cell_type": "markdown",
      "source": [
        "ตัวแปรเป็นที่เก็บข้อมูล\n",
        "- ต้องมีชื่อกำกับ\n",
        "- เปลี่ยนค่าที่เก็บได้\n",
        "\n",
        "\n",
        "> ตัวอย่าง\n",
        "\n",
        "> name = 'Python' หมายถึง นำค่า 'python' เก็บในตัวแปรชื่อ name ตอนนี้ name ชนิดข้อมูล คือ String \n",
        "\n",
        "\n",
        "> lang = name หมายถึง นำข้อมูล name เก็บในตัวแปรชื่อ lang ทำให้ lang กับ name เก็บค่าเหมือนกัน\n",
        "\n",
        "กฎในการตั้งชื่อตัวแปร\n",
        "- ประกอบด้วยตัวอักษร ตัวเลข หรือ เครื่องหมายขีดเส้นใต้\n",
        "- ตัวอังกฤษใหญ่ก้บตัวเล็กความหมายไม่เหมือนกัน\n",
        "- ห้ามขึ้นต้นชื่อด้วยตัวเลข\n",
        "- ไม่ซ้ำกับคำสงวนของภาษา\n",
        "\n",
        "\n",
        "\n",
        "\n"
      ],
      "metadata": {
        "id": "cptSg5Cymca1"
      }
    },
    {
      "cell_type": "markdown",
      "source": [
        "## **1.4 Basic Data Type**"
      ],
      "metadata": {
        "id": "dgqtXxcWpxWl"
      }
    },
    {
      "cell_type": "markdown",
      "source": [
        "str ข้อความ\n",
        "\n",
        "int จำนนวนเต็ม\n",
        "\n",
        "float จำนวนจริง(จุดทศนิยม)\n",
        "\n",
        "ิbool  ค่าจริงกับค่าเท็จเท่านั้น(True กับ False)\n",
        "\n",
        "list ชุดข้อมูล เก็บเรียงลำดับ \n",
        "\n"
      ],
      "metadata": {
        "id": "oH4NUH7Np94t"
      }
    },
    {
      "cell_type": "code",
      "source": [
        "first_name = 'Ranee'\n",
        "last_name  = 'Campen'\n",
        "aka        = 'Bella'\n",
        "age        = 29\n",
        "height     = 1.65\n",
        "is_single  = True\n",
        "birth_date = [24, 12, 1989]\n",
        "\n"
      ],
      "metadata": {
        "id": "eJOnL63LmP45"
      },
      "execution_count": 14,
      "outputs": []
    },
    {
      "cell_type": "code",
      "source": [
        "print('name:', first_name, last_name)"
      ],
      "metadata": {
        "colab": {
          "base_uri": "https://localhost:8080/"
        },
        "id": "jPmSSibWmP10",
        "outputId": "2d3b9d26-2998-4497-d60d-2c82810d3c3d"
      },
      "execution_count": 15,
      "outputs": [
        {
          "output_type": "stream",
          "name": "stdout",
          "text": [
            "name: Ranee Campen\n"
          ]
        }
      ]
    },
    {
      "cell_type": "code",
      "source": [
        ""
      ],
      "metadata": {
        "id": "Bq-jgyJ5mPzG"
      },
      "execution_count": 15,
      "outputs": []
    },
    {
      "cell_type": "code",
      "source": [
        ""
      ],
      "metadata": {
        "id": "NVen-hCTmPwV"
      },
      "execution_count": 15,
      "outputs": []
    },
    {
      "cell_type": "code",
      "source": [
        ""
      ],
      "metadata": {
        "id": "_ayPq1LXmPtX"
      },
      "execution_count": 15,
      "outputs": []
    },
    {
      "cell_type": "code",
      "source": [
        ""
      ],
      "metadata": {
        "id": "fjkizpRhmPps"
      },
      "execution_count": 15,
      "outputs": []
    },
    {
      "cell_type": "markdown",
      "source": [
        "# **2. Basic String & List**"
      ],
      "metadata": {
        "id": "D_7u7HLzfrpC"
      }
    },
    {
      "cell_type": "markdown",
      "source": [
        "**2.1 Index and Slice**"
      ],
      "metadata": {
        "id": "cvU30DaxgLu1"
      }
    },
    {
      "cell_type": "code",
      "source": [
        "s = 'Hello' ; t = 'Python'\n",
        "x = [1, 3, 5, 7] ; y = [5, 6, 7, 8]\n",
        "r = s + t\n",
        "z = x + y\n",
        "\n"
      ],
      "metadata": {
        "id": "wUWXkJMrf4fK"
      },
      "execution_count": 16,
      "outputs": []
    },
    {
      "cell_type": "code",
      "source": [
        "# length\n",
        "print(len(s), len(r), len(x), len(z))"
      ],
      "metadata": {
        "id": "DTz2_lzhf5Ou",
        "outputId": "d50be389-73f9-4f4a-b9c0-e5ed000ee780",
        "colab": {
          "base_uri": "https://localhost:8080/"
        }
      },
      "execution_count": 17,
      "outputs": [
        {
          "output_type": "stream",
          "name": "stdout",
          "text": [
            "5 11 4 8\n"
          ]
        }
      ]
    },
    {
      "cell_type": "code",
      "source": [
        "# index\n",
        "print"
      ],
      "metadata": {
        "id": "zhJ31v1Tf5GB",
        "colab": {
          "base_uri": "https://localhost:8080/"
        },
        "outputId": "de5363b2-c2f2-4794-d7ad-cb64fc5ff3b4"
      },
      "execution_count": 18,
      "outputs": [
        {
          "output_type": "execute_result",
          "data": {
            "text/plain": [
              "<function print>"
            ]
          },
          "metadata": {},
          "execution_count": 18
        }
      ]
    },
    {
      "cell_type": "code",
      "source": [
        ""
      ],
      "metadata": {
        "id": "_u1UAgXXf5Bw"
      },
      "execution_count": 18,
      "outputs": []
    },
    {
      "cell_type": "code",
      "source": [
        ""
      ],
      "metadata": {
        "id": "aUuzFTh5f4-G"
      },
      "execution_count": 18,
      "outputs": []
    },
    {
      "cell_type": "code",
      "source": [
        ""
      ],
      "metadata": {
        "id": "cRTRmIUEf46_"
      },
      "execution_count": 18,
      "outputs": []
    },
    {
      "cell_type": "markdown",
      "source": [
        "# **Problem**"
      ],
      "metadata": {
        "id": "mh9aD0uyn-09"
      }
    },
    {
      "cell_type": "markdown",
      "source": [
        "**input**: รับจำนวนเต็ม 3 จำนวนจากแป้นพิมพ์(บรรทัดละจำนวน) เก็บในตัวแปร h, m และ s ซึ่งแทนจำนวน ชั่วโมง, นาที และวินาที\n",
        "\n",
        "**process**: คำนวนจำนวนวินาทีรวมที่คิดจาก h, m และ s \n",
        "\n",
        "**Output** : จำนวนวินาทีรวมทั้งหมดที่คำนวณได้"
      ],
      "metadata": {
        "id": "_06FMYUBoDJJ"
      }
    },
    {
      "cell_type": "code",
      "source": [
        "#Input\n",
        "h = int(input())\n",
        "m = int(input())\n",
        "s = int(input())\n",
        "\n",
        "#Process\n",
        "total = 60*60*h + 60*m + s \n",
        "\n",
        "#Output\n",
        "print(total)"
      ],
      "metadata": {
        "id": "LhsGpm04n-Cr",
        "outputId": "e5855183-8e1a-4a39-f52a-b8251a659824",
        "colab": {
          "base_uri": "https://localhost:8080/"
        }
      },
      "execution_count": 19,
      "outputs": [
        {
          "output_type": "stream",
          "name": "stdout",
          "text": [
            "34\n",
            "32\n",
            "55\n",
            "124375\n"
          ]
        }
      ]
    },
    {
      "cell_type": "code",
      "source": [
        ""
      ],
      "metadata": {
        "id": "XEXQwR06n9_Y"
      },
      "execution_count": 19,
      "outputs": []
    },
    {
      "cell_type": "code",
      "source": [
        ""
      ],
      "metadata": {
        "id": "8_7XOgurn98g"
      },
      "execution_count": 19,
      "outputs": []
    },
    {
      "cell_type": "code",
      "source": [
        ""
      ],
      "metadata": {
        "id": "LdRWDqBmn95G"
      },
      "execution_count": 19,
      "outputs": []
    },
    {
      "cell_type": "code",
      "source": [
        ""
      ],
      "metadata": {
        "id": "pullVa1Kn919"
      },
      "execution_count": 19,
      "outputs": []
    },
    {
      "cell_type": "code",
      "source": [
        ""
      ],
      "metadata": {
        "id": "b8pEHI4pn9yl"
      },
      "execution_count": 19,
      "outputs": []
    }
  ]
}